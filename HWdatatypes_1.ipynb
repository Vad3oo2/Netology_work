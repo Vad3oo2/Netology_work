{
 "cells": [
  {
   "cell_type": "code",
   "execution_count": 3,
   "metadata": {},
   "outputs": [],
   "source": [
    "# Задание 1"
   ]
  },
  {
   "cell_type": "code",
   "execution_count": 70,
   "metadata": {},
   "outputs": [],
   "source": [
    "word = 'test'"
   ]
  },
  {
   "cell_type": "code",
   "execution_count": 105,
   "metadata": {},
   "outputs": [
    {
     "name": "stdout",
     "output_type": "stream",
     "text": [
      "es\n"
     ]
    }
   ],
   "source": [
    "len_word = len(word)\n",
    "ostatok = len_word % 2 \n",
    "midl= len_word // 2  \n",
    "if ostatok != 0:\n",
    "    print(word[midl])\n",
    "else: \n",
    "    print(word[midl-1]+word[midl])\n",
    "        "
   ]
  },
  {
   "cell_type": "code",
   "execution_count": 107,
   "metadata": {},
   "outputs": [],
   "source": [
    "#Задание 2"
   ]
  },
  {
   "cell_type": "code",
   "execution_count": 3,
   "metadata": {
    "scrolled": true
   },
   "outputs": [
    {
     "name": "stdout",
     "output_type": "stream",
     "text": [
      "Ввведите число: 0\n",
      "Результат:  0\n"
     ]
    }
   ],
   "source": [
    "number = 0\n",
    "user_input = int(input('Ввведите число: '))\n",
    "while    user_input != 0:\n",
    "    if user_input == 0:\n",
    "        print(number)            \n",
    "    else:    number += user_input \n",
    "    user_input = int(input('Ввведите число: '))\n",
    "print('Результат: ',number)      \n",
    "    "
   ]
  },
  {
   "cell_type": "code",
   "execution_count": 1,
   "metadata": {},
   "outputs": [],
   "source": [
    "# Задание 3 "
   ]
  },
  {
   "cell_type": "code",
   "execution_count": 156,
   "metadata": {},
   "outputs": [
    {
     "name": "stdout",
     "output_type": "stream",
     "text": [
      "Идеальные пары : \n",
      "Alex и Emma\n",
      "Arthur и Kate\n",
      "John и Kira\n",
      "Peter и Liza\n",
      "Richard и Trisha\n"
     ]
    }
   ],
   "source": [
    "boys = ['Peter', 'Alex', 'John', 'Arthur', 'Richard']\n",
    "girls = ['Kate', 'Liza', 'Kira', 'Emma', 'Trisha']\n",
    "\n",
    "\n",
    "boys_sort = sorted(boys)\n",
    "girls_sort = sorted(girls)\n",
    "ideal_match = zip(boys_sort,girls_sort)\n",
    "if len(boys_sort) == len(girls_sort):\n",
    "    print('Идеальные пары : ')\n",
    "    for pair in ideal_match:\n",
    "        print((pair[0]),'и',(pair[1]))\n",
    "          \n",
    "else:\n",
    "    print('Внимание, кто-то может остаться без пары!')\n"
   ]
  },
  {
   "cell_type": "code",
   "execution_count": 157,
   "metadata": {},
   "outputs": [
    {
     "name": "stdout",
     "output_type": "stream",
     "text": [
      "Внимание, кто-то может остаться без пары!\n"
     ]
    }
   ],
   "source": [
    "boys = ['Peter', 'Alex', 'John', 'Arthur', 'Richard', 'Michael']\n",
    "girls = ['Kate', 'Liza', 'Kira', 'Emma', 'Trisha']\n",
    "\n",
    "boys_sort = sorted(boys)\n",
    "girls_sort = sorted(girls)\n",
    "ideal_match = zip(boys_sort,girls_sort)\n",
    "if len(boys_sort) == len(girls_sort):\n",
    "    print('Идеальные пары : ')\n",
    "    for pair in ideal_match:\n",
    "        print((pair[0]),'и',(pair[1]))\n",
    "          \n",
    "else:\n",
    "    print('Внимание, кто-то может остаться без пары!')\n"
   ]
  },
  {
   "cell_type": "code",
   "execution_count": 4,
   "metadata": {},
   "outputs": [],
   "source": [
    "#Задание 4\n"
   ]
  },
  {
   "cell_type": "code",
   "execution_count": 56,
   "metadata": {},
   "outputs": [
    {
     "name": "stdout",
     "output_type": "stream",
     "text": [
      "Cредняя температура в стране:  Thailand  -  23.86 C\n",
      "Cредняя температура в стране:  Germany  -  13.8 C\n",
      "Cредняя температура в стране:  Russia  -  3.71 C\n",
      "Cредняя температура в стране:  Poland  -  12.0 C\n"
     ]
    }
   ],
   "source": [
    "countries_temperature = [\n",
    "    ['Thailand', [75.2, 77, 78.8, 73.4, 68, 75.2, 77]],\n",
    "    ['Germany', [57.2, 55.4, 59, 59, 53.6]],\n",
    "    ['Russia', [35.6, 37.4, 39.2, 41, 42.8, 39.2, 35.6]],\n",
    "    ['Poland', [50, 50, 53.6, 57.2, 55.4, 55.4]]\n",
    "]\n",
    "\n",
    "for country in countries_temperature:\n",
    "    total_temp = sum(country[1])\n",
    "    average_temp = total_temp/len(country[1])\n",
    "    cel= (average_temp - 32)*5/9\n",
    "    print('Cредняя температура в стране: ',country[0], ' - ', (round(cel, 2)), 'C')\n",
    "    \n",
    "    \n",
    "\n",
    "\n"
   ]
  }
 ],
 "metadata": {
  "kernelspec": {
   "display_name": "Python 3",
   "language": "python",
   "name": "python3"
  },
  "language_info": {
   "codemirror_mode": {
    "name": "ipython",
    "version": 3
   },
   "file_extension": ".py",
   "mimetype": "text/x-python",
   "name": "python",
   "nbconvert_exporter": "python",
   "pygments_lexer": "ipython3",
   "version": "3.8.5"
  }
 },
 "nbformat": 4,
 "nbformat_minor": 4
}
