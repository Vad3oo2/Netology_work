{
 "cells": [
  {
   "cell_type": "code",
   "execution_count": 6,
   "metadata": {},
   "outputs": [
    {
     "name": "stdout",
     "output_type": "stream",
     "text": [
      "The Moscow Times -  2002-10-02 00:00:00\n",
      "The Guardian - 2013-10-11 00:00:00\n",
      "Daily News - 1977-08-18 00:00:00\n"
     ]
    }
   ],
   "source": [
    "#Задание 1\n",
    "from datetime import datetime\n",
    "#The Moscow Times - Wednesday, October 2, 2002\n",
    "the_Moscow_times=datetime.strptime(\"Wednesday, October 2, 2002\",'%A, %B %d, %Y')\n",
    "print ('The Moscow Times - ', the_Moscow_times)\n",
    "#The Guardian - Friday, 11.10.13\n",
    "the_Guardian=datetime.strptime(\"Friday, 11.10.13\", '%A, %d.%m.%y')\n",
    "print ('The Guardian -', the_Guardian)\n",
    "#Daily News - Thursday, 18 August 1977\n",
    "Daily_News = datetime.strptime('Thursday, 18 August 1977', '%A, %d %B %Y' )\n",
    "print ('Daily News -', Daily_News)\n"
   ]
  },
  {
   "cell_type": "code",
   "execution_count": 7,
   "metadata": {},
   "outputs": [
    {
     "name": "stdout",
     "output_type": "stream",
     "text": [
      "True\n",
      "False\n",
      "False\n"
     ]
    }
   ],
   "source": [
    "#Задание 2\n",
    "\n",
    "stream = ['2018-04-02', '2018-02-29', '2018-19-02']\n",
    "def check_date(date):\n",
    "        for el in date:\n",
    "            try:\n",
    "                checkd=datetime.strptime(el,'%Y-%m-%d')\n",
    "                print('True')\n",
    "            except ValueError:\n",
    "                print('False')\n",
    "        \n",
    "check_date(stream)\n"
   ]
  },
  {
   "cell_type": "code",
   "execution_count": 14,
   "metadata": {},
   "outputs": [
    {
     "name": "stdout",
     "output_type": "stream",
     "text": [
      "Введите начальну дату: YYYY-MM-DD2020-02-30\n",
      "Введите конечную дату: YYYY-MM-DD2020-02-31\n",
      "[]\n"
     ]
    }
   ],
   "source": [
    "#Задание 3\n",
    "from datetime import timedelta\n",
    "start= input(\"Введите начальну дату: YYYY-MM-DD\")\n",
    "end= input('Введите конечную дату: YYYY-MM-DD')\n",
    "\n",
    "def date_range (start,end):\n",
    "    try:\n",
    "        start_date= datetime.strptime(start,'%Y-%m-%d')\n",
    "        end_date= datetime.strptime(end,'%Y-%m-%d')\n",
    "        days = []\n",
    "    \n",
    "        if start_date <=end_date:\n",
    "            next_date=start_date\n",
    "            while next_date <= end_date:\n",
    "                    next_date += timedelta(days=1)\n",
    "                    print_date=datetime.strftime(next_date,'%Y-%m-%d')\n",
    "                    days.append(print_date)\n",
    "        return(days)\n",
    "    \n",
    "    except ValueError:                \n",
    "          print ([])          \n",
    "    \n",
    "    \n",
    "\n",
    "\n",
    "        \n",
    "date_range(start,end)"
   ]
  },
  {
   "cell_type": "code",
   "execution_count": null,
   "metadata": {
    "scrolled": true
   },
   "outputs": [],
   "source": []
  },
  {
   "cell_type": "code",
   "execution_count": null,
   "metadata": {},
   "outputs": [],
   "source": []
  }
 ],
 "metadata": {
  "kernelspec": {
   "display_name": "Python 3",
   "language": "python",
   "name": "python3"
  },
  "language_info": {
   "codemirror_mode": {
    "name": "ipython",
    "version": 3
   },
   "file_extension": ".py",
   "mimetype": "text/x-python",
   "name": "python",
   "nbconvert_exporter": "python",
   "pygments_lexer": "ipython3",
   "version": "3.8.5"
  }
 },
 "nbformat": 4,
 "nbformat_minor": 4
}
