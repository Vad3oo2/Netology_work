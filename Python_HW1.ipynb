{
 "cells": [
  {
   "cell_type": "code",
   "execution_count": 1,
   "metadata": {},
   "outputs": [
    {
     "name": "stdout",
     "output_type": "stream",
     "text": [
      "Фраза 1 длиннее фразы 2\n",
      "конец программы\n"
     ]
    }
   ],
   "source": [
    "#Задание 1\n",
    "\n",
    "phrase_1 = 'Насколько проще было бы писать программы, если бы не заказчики'\n",
    "\n",
    "phrase_2 = '640Кб должно хватить для любых задач. Билл Гейтс (по легенде)'\n",
    "\n",
    "if len(phrase_1) > len(phrase_2):\n",
    "    print('Фраза 1 длиннее фразы 2')\n",
    "elif len(phrase_1) < len(phrase_2): \n",
    "    print('Фраза 2 длиннее фразы 1')\n",
    "else: \n",
    "    print('Фразы равной длины')\n",
    "print('конец программы')\n",
    "    "
   ]
  },
  {
   "cell_type": "code",
   "execution_count": 2,
   "metadata": {},
   "outputs": [
    {
     "name": "stdout",
     "output_type": "stream",
     "text": [
      "Фраза 2 длиннее фразы 1\n",
      "конец программы\n"
     ]
    }
   ],
   "source": [
    "phrase_1 = '640Кб должно хватить для любых задач. Билл Гейтс (по легенде)'\n",
    "\n",
    "phrase_2 = 'Насколько проще было бы писать программы, если бы не заказчики'\n",
    "\n",
    "if len(phrase_1) > len(phrase_2):\n",
    "    print('Фраза 1 длиннее фразы 2')\n",
    "elif len(phrase_1) < len(phrase_2): \n",
    "    print('Фраза 2 длиннее фразы 1')\n",
    "else: \n",
    "    print('Фразы равной длины')\n",
    "print('конец программы')\n",
    "    "
   ]
  },
  {
   "cell_type": "code",
   "execution_count": 3,
   "metadata": {},
   "outputs": [
    {
     "name": "stdout",
     "output_type": "stream",
     "text": [
      "Фразы равной длины\n",
      "конец программы\n"
     ]
    }
   ],
   "source": [
    "phrase_1 = 'Насколько проще было бы писать программы, если бы не заказчики'\n",
    "\n",
    "phrase_2 = 'Насколько проще было бы писать программы, если бы не заказчики'\n",
    "\n",
    "if len(phrase_1) > len(phrase_2):\n",
    "    print('Фраза 1 длиннее фразы 2')\n",
    "elif len(phrase_1) < len(phrase_2): \n",
    "    print('Фраза 2 длиннее фразы 1')\n",
    "else: \n",
    "    print('Фразы равной длины')\n",
    "print('конец программы')\n",
    "    "
   ]
  },
  {
   "cell_type": "code",
   "execution_count": 7,
   "metadata": {},
   "outputs": [
    {
     "name": "stdout",
     "output_type": "stream",
     "text": [
      "2020  - Високосный год\n"
     ]
    }
   ],
   "source": [
    "#Задание 2\n",
    "\n",
    "year = 2020\n",
    "if year % 4 ==0 and year % 100 != 0 or year % 400 ==0:\n",
    "    print(year, ' - Високосный год')\n",
    "else: \n",
    "    print(year, ' - Обычный год')\n",
    "    "
   ]
  },
  {
   "cell_type": "code",
   "execution_count": 8,
   "metadata": {},
   "outputs": [
    {
     "name": "stdout",
     "output_type": "stream",
     "text": [
      "2019  - Обычный год\n"
     ]
    }
   ],
   "source": [
    "year = 2019\n",
    "if year % 4 ==0 and year % 100 != 0 or year % 400 ==0:\n",
    "    print(year, ' - Високосный год')\n",
    "else: \n",
    "    print(year, ' - Обычный год')\n",
    "    "
   ]
  },
  {
   "cell_type": "code",
   "execution_count": 9,
   "metadata": {},
   "outputs": [
    {
     "name": "stdout",
     "output_type": "stream",
     "text": [
      "Введите день25\n",
      "Введите месяцОктябрь\n",
      "Ваш знак зодиака: Скорпион\n"
     ]
    }
   ],
   "source": [
    "#Задание 3\n",
    "\n",
    "day = int(input('Введите день'))\n",
    "month = input('Введите месяц')\n",
    "\n",
    "if   21 <= day <= 31 and month == 'Март' or 1 <= day <= 20 and month == 'Апрель':\n",
    "    print('Ваш знак зодиака: Овен')\n",
    "elif 23 <= day <= 30 and month == 'Апрель' or 1 <= day <= 21 and month == 'Май':\n",
    "    print('Ваш знак зодиака: Телец')\n",
    "elif 22 <= day <= 31 and month == 'Май' or 1 <= day <= 21 and month == 'Июнь':\n",
    "    print('Ваш знак зодиака: Близнецы')\n",
    "elif 22 <= day <= 30 and month == 'Июнь' or 1 <= day <= 22 and month == 'Июль':\n",
    "    print('Ваш знак зодиака: Рак')\n",
    "elif 23 <= day <= 31 and month == 'Июль' or 1 <= day <= 23 and month == 'Август':\n",
    "    print('Ваш знак зодиака: Лев')\n",
    "elif 24 <= day <= 31 and month == 'Август' or 1 <= day <= 23 and month == 'Сентябрь':\n",
    "    print('Ваш знак зодиака: Дева')\n",
    "elif 24 <= day <= 30 and month == 'Сентябрь' or 1 <= day <= 23 and month == 'Октябрь':\n",
    "    print('Ваш знак зодиака: Весы')\n",
    "elif 24 <= day <= 31 and month == 'Октябрь' or 1 <= day <= 22 and month == 'Ноябрь':\n",
    "    print('Ваш знак зодиака: Скорпион')\n",
    "elif 23 <= day <= 30 and month == 'Ноябрь' or 1 <= day <= 22 and month == 'Декабрь':\n",
    "    print('Ваш знак зодиака: Стрелец')\n",
    "elif 23 <= day <= 31 and month == 'Декабрь' or 1 <= day <= 20 and month == 'Январь':\n",
    "    print('Ваш знак зодиака: Козерог')\n",
    "elif 21 <= day <= 30 and month == 'Январь' or 1 <= day <= 19 and month == 'Февраль':\n",
    "    print('Ваш знак зодиака: Водолей')\n",
    "elif 20 <= day <= 29 and month == 'Февраль' or 1 <= day <= 20 and month == 'Март':\n",
    "    print('Ваш знак зодиака: Рыбы')\n",
    "else: \n",
    "    print('неверная дата')"
   ]
  },
  {
   "cell_type": "code",
   "execution_count": 14,
   "metadata": {},
   "outputs": [
    {
     "name": "stdout",
     "output_type": "stream",
     "text": [
      "Стандартная коробка №3\n"
     ]
    }
   ],
   "source": [
    "#Задание 4\n",
    "\n",
    "width = 70\n",
    "length = 60\n",
    "height = 80\n",
    "\n",
    "if width < 15 and length < 15 and height < 15:\n",
    "    print('Коробка №1')\n",
    "elif   length > 200:\n",
    "    print('Упаковка для лыж')\n",
    "elif 15 < width < 50 or  15 < length < 50 or 15 < height < 50: \n",
    "    print('Коробка №2')\n",
    "else: \n",
    "        print('Стандартная коробка №3')\n",
    "        "
   ]
  },
  {
   "cell_type": "code",
   "execution_count": 17,
   "metadata": {},
   "outputs": [
    {
     "name": "stdout",
     "output_type": "stream",
     "text": [
      "Несчастливый билет\n"
     ]
    }
   ],
   "source": [
    "#задание 5\n",
    "\n",
    "number = 123456\n",
    "\n",
    "number = str(number)\n",
    "\n",
    "d1 = int(number[0]) \n",
    "d2 = int(number[1])  \n",
    "d3 = int(number[2])  \n",
    "d4 = int(number[3])  \n",
    "d5 = int(number[4]) \n",
    "d6 = int(number[5])\n",
    "\n",
    "if d1 + d2 + d3 == d4 + d5 + d6:\n",
    "    print('Счастливый билет')\n",
    "else:\n",
    "    print('Несчастливый билет')"
   ]
  },
  {
   "cell_type": "code",
   "execution_count": 16,
   "metadata": {},
   "outputs": [
    {
     "name": "stdout",
     "output_type": "stream",
     "text": [
      "Введите тип фигурыКруг\n",
      "Введите радиус52\n",
      "Площадь круга - 8494.8665353068\n"
     ]
    }
   ],
   "source": [
    "#задание 6\n",
    "form = input('Введите тип фигуры')\n",
    "if form == 'Круг':\n",
    "    rad = int(input('Введите радиус'))\n",
    "    from math import pi\n",
    "    print ('Площадь круга -', pi*(rad**2))\n",
    "elif form == 'Треугольник':\n",
    "    LA = int(input('Введите длину стороны A'))\n",
    "    LB = int(input('Введите длину стороны B'))\n",
    "    LC = int(input('Введите длину стороны C'))\n",
    "    triP = LA + LB + LC\n",
    "    from math import sqrt\n",
    "    tri = sqrt(triP*(triP-LA)*(triP-LB)*(triP-LC))\n",
    "    print('Площадь треугольника - ', tri )\n",
    "elif form == 'Прямоугольник':\n",
    "    L1 = int(input('Введите длину стороны 1'))\n",
    "    L2 = int(input('Введите длину стороны 2'))\n",
    "    print('Площадь прямоугольника -', L1*L2 )\n",
    "else: \n",
    "    print('Ошибка ввода') \n"
   ]
  }
 ],
 "metadata": {
  "kernelspec": {
   "display_name": "Python 3",
   "language": "python",
   "name": "python3"
  },
  "language_info": {
   "codemirror_mode": {
    "name": "ipython",
    "version": 3
   },
   "file_extension": ".py",
   "mimetype": "text/x-python",
   "name": "python",
   "nbconvert_exporter": "python",
   "pygments_lexer": "ipython3",
   "version": "3.8.5"
  }
 },
 "nbformat": 4,
 "nbformat_minor": 4
}
