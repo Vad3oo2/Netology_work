{
 "cells": [
  {
   "cell_type": "code",
   "execution_count": 62,
   "metadata": {
    "scrolled": true
   },
   "outputs": [
    {
     "name": "stdout",
     "output_type": "stream",
     "text": [
      "{'user_id': 'category'}\n",
      "{'user_id': 'category', '1840e0b9d4': 'Продукты'}\n",
      "{'user_id': 'category', '1840e0b9d4': 'Продукты', '4e4f90fcfb': 'Электроника'}\n",
      "{'user_id': 'category', '1840e0b9d4': 'Продукты', '4e4f90fcfb': 'Электроника', 'afea8d72fc': 'Электроника'}\n",
      "{'user_id': 'category', '1840e0b9d4': 'Продукты', '4e4f90fcfb': 'Электроника', 'afea8d72fc': 'Электроника', '373a6055fe': 'Бытовая техника'}\n",
      "{'user_id': 'category', '1840e0b9d4': 'Продукты', '4e4f90fcfb': 'Электроника', 'afea8d72fc': 'Электроника', '373a6055fe': 'Бытовая техника', '9b2ab046f3': 'Электроника'}\n",
      "{'user_id': 'category', '1840e0b9d4': 'Продукты', '4e4f90fcfb': 'Электроника', 'afea8d72fc': 'Электроника', '373a6055fe': 'Бытовая техника', '9b2ab046f3': 'Электроника', '9f39d307c3': 'Электроника'}\n",
      "{'user_id': 'category', '1840e0b9d4': 'Продукты', '4e4f90fcfb': 'Электроника', 'afea8d72fc': 'Электроника', '373a6055fe': 'Бытовая техника', '9b2ab046f3': 'Электроника', '9f39d307c3': 'Электроника', '44edeffc91': 'Продукты'}\n",
      "{'user_id': 'category', '1840e0b9d4': 'Продукты', '4e4f90fcfb': 'Электроника', 'afea8d72fc': 'Электроника', '373a6055fe': 'Бытовая техника', '9b2ab046f3': 'Электроника', '9f39d307c3': 'Электроника', '44edeffc91': 'Продукты', '704474fa2d': 'Продукты'}\n",
      "{'user_id': 'category', '1840e0b9d4': 'Продукты', '4e4f90fcfb': 'Электроника', 'afea8d72fc': 'Электроника', '373a6055fe': 'Бытовая техника', '9b2ab046f3': 'Электроника', '9f39d307c3': 'Электроника', '44edeffc91': 'Продукты', '704474fa2d': 'Продукты', '1de31be403': 'Бытовая техника'}\n",
      "{'user_id': 'category', '1840e0b9d4': 'Продукты', '4e4f90fcfb': 'Электроника', 'afea8d72fc': 'Электроника', '373a6055fe': 'Бытовая техника', '9b2ab046f3': 'Электроника', '9f39d307c3': 'Электроника', '44edeffc91': 'Продукты', '704474fa2d': 'Продукты', '1de31be403': 'Бытовая техника', 'b71f36a5e4': 'Продукты'}\n"
     ]
    }
   ],
   "source": [
    "import json\n",
    "with open('purchase_log.txt', encoding = 'utf-8') as f:\n",
    "    i=0\n",
    "    purchases={}\n",
    "    for line in f:\n",
    "        line=line.strip()\n",
    "        f_dict=json.loads(line)\n",
    "        \n",
    "        for x in f_dict.items():\n",
    "            f_key=f_dict[\"user_id\"]\n",
    "            v_key=f_dict[\"category\"]\n",
    "            purchases[f_key]=v_key\n",
    "        print(purchases)\n",
    "    \n",
    "        i +=1\n",
    "        if i>10:\n",
    "              break      \n",
    "                      \n",
    "\n",
    "\n"
   ]
  },
  {
   "cell_type": "code",
   "execution_count": 63,
   "metadata": {
    "scrolled": true
   },
   "outputs": [],
   "source": [
    "with open('visit_log.csv','r', encoding = 'utf-8') as f_read:\n",
    "    with open('funnel.csv','w', encoding = 'utf-8') as f2write:\n",
    "        \n",
    "        for k in f_read:\n",
    "            k=k.strip().split(\",\")\n",
    "            #print(k[0])\n",
    "          \n",
    "            if k[0] in purchases.keys():\n",
    "                list1 = k\n",
    "                list1.append(purchases.get(k[0]))\n",
    "                f2write.write(str(list1)+'\\n')  \n",
    "                "
   ]
  },
  {
   "cell_type": "code",
   "execution_count": 64,
   "metadata": {
    "scrolled": true
   },
   "outputs": [
    {
     "name": "stdout",
     "output_type": "stream",
     "text": [
      "['user_id', 'source', 'category']\n",
      "\n",
      "['1840e0b9d4', 'other', 'Продукты']\n",
      "\n",
      "['4e4f90fcfb', 'context', 'Электроника']\n",
      "\n",
      "['afea8d72fc', 'other', 'Электроника']\n",
      "\n",
      "['373a6055fe', 'other', 'Бытовая техника']\n",
      "\n",
      "['9b2ab046f3', 'other', 'Электроника']\n",
      "\n",
      "['9f39d307c3', 'context', 'Электроника']\n",
      "\n",
      "['44edeffc91', 'context', 'Продукты']\n",
      "\n"
     ]
    }
   ],
   "source": []
  }
 ],
 "metadata": {
  "kernelspec": {
   "display_name": "Python 3",
   "language": "python",
   "name": "python3"
  },
  "language_info": {
   "codemirror_mode": {
    "name": "ipython",
    "version": 3
   },
   "file_extension": ".py",
   "mimetype": "text/x-python",
   "name": "python",
   "nbconvert_exporter": "python",
   "pygments_lexer": "ipython3",
   "version": "3.8.5"
  }
 },
 "nbformat": 4,
 "nbformat_minor": 4
}
