{
 "cells": [
  {
   "cell_type": "code",
   "execution_count": 33,
   "metadata": {
    "scrolled": false
   },
   "outputs": [
    {
     "name": "stdout",
     "output_type": "stream",
     "text": [
      "{'user_id': 'category'}\n",
      "{'1840e0b9d4': 'Продукты'}\n",
      "{'4e4f90fcfb': 'Электроника'}\n",
      "{'afea8d72fc': 'Электроника'}\n",
      "{'373a6055fe': 'Бытовая техника'}\n",
      "{'9b2ab046f3': 'Электроника'}\n",
      "{'9f39d307c3': 'Электроника'}\n",
      "{'44edeffc91': 'Продукты'}\n",
      "{'704474fa2d': 'Продукты'}\n",
      "{'1de31be403': 'Бытовая техника'}\n",
      "{'b71f36a5e4': 'Продукты'}\n"
     ]
    }
   ],
   "source": [
    "import json\n",
    "with open('purchase_log.txt', encoding = 'utf-8') as f:\n",
    "    i=0\n",
    "    for line in f:\n",
    "        line=line.strip()\n",
    "        f_dict=json.loads(line)\n",
    "        \n",
    "        for f_key,v_key in f_dict.items():\n",
    "            f_key=f_dict[\"user_id\"]\n",
    "            v_key=f_dict[\"category\"]\n",
    "            purchases={f_key:v_key}\n",
    "        print(purchases)\n",
    "    \n",
    "        i +=1\n",
    "        if i>10:\n",
    "             break     \n",
    "\n",
    "\n"
   ]
  },
  {
   "cell_type": "code",
   "execution_count": 49,
   "metadata": {},
   "outputs": [
    {
     "ename": "SyntaxError",
     "evalue": "invalid syntax (<ipython-input-49-24655569dbde>, line 12)",
     "output_type": "error",
     "traceback": [
      "\u001b[1;36m  File \u001b[1;32m\"<ipython-input-49-24655569dbde>\"\u001b[1;36m, line \u001b[1;32m12\u001b[0m\n\u001b[1;33m    return\u001b[0m\n\u001b[1;37m    ^\u001b[0m\n\u001b[1;31mSyntaxError\u001b[0m\u001b[1;31m:\u001b[0m invalid syntax\n"
     ]
    }
   ],
   "source": [
    "with open('visit_log.csv','r', encoding = 'utf-8') as f_read:\n",
    "    with open('funnel.csv','w', encoding = 'utf-8') as f2write:\n",
    "        \n",
    "        for k in f_read:\n",
    "            k=k.strip().split(\",\")\n",
    "            #print(k[0])\n",
    "          \n",
    "            if k[0] in purchases.keys():\n",
    "                list1 = k\n",
    "                list1.append(purchases.get(k[0]))\n",
    "                f2write.write(str(list1)\n",
    "                   \n",
    "                            \n",
    "             \n",
    "                              "
   ]
  },
  {
   "cell_type": "code",
   "execution_count": null,
   "metadata": {},
   "outputs": [],
   "source": []
  }
 ],
 "metadata": {
  "kernelspec": {
   "display_name": "Python 3",
   "language": "python",
   "name": "python3"
  },
  "language_info": {
   "codemirror_mode": {
    "name": "ipython",
    "version": 3
   },
   "file_extension": ".py",
   "mimetype": "text/x-python",
   "name": "python",
   "nbconvert_exporter": "python",
   "pygments_lexer": "ipython3",
   "version": "3.8.5"
  }
 },
 "nbformat": 4,
 "nbformat_minor": 4
}
