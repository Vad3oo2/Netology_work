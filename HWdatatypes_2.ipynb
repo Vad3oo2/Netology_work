{
 "cells": [
  {
   "cell_type": "code",
   "execution_count": 15,
   "metadata": {},
   "outputs": [
    {
     "name": "stdout",
     "output_type": "stream",
     "text": [
      "Результат:  {98, 35, 15, 213, 54, 119}\n"
     ]
    }
   ],
   "source": [
    "#Задание 1\n",
    "ids = {'user1': [213, 213, 213, 15, 213], \n",
    "       'user2': [54, 54, 119, 119, 119], \n",
    "       'user3': [213, 98, 98, 35]}\n",
    "\n",
    "\n",
    "#ids_2= list(ids.values())\n",
    "#uniq = set()\n",
    "\n",
    "#for element in ids_2:\n",
    " #   uniq.update(element)\n",
    "            \n",
    "#print('Результат: ', uniq)\n",
    "\n",
    "     \n",
    "ids_3=set(sum(list(ids.values()) ,[]))\n",
    "            \n",
    "print('Результат: ', ids_3)\n",
    "   \n",
    " "
   ]
  },
  {
   "cell_type": "code",
   "execution_count": 182,
   "metadata": {},
   "outputs": [
    {
     "name": "stdout",
     "output_type": "stream",
     "text": [
      "Поисковых запросов, содержащих 3 слов(а): 57.14 %\n",
      "Поисковых запросов, содержащих 2 слов(а): 42.86 %\n"
     ]
    }
   ],
   "source": [
    "#Задание 2\n",
    "\n",
    "queries = [\n",
    "    'смотреть сериалы онлайн',\n",
    "    'новости спорта',\n",
    "    'афиша кино',\n",
    "    'курс доллара',\n",
    "    'сериалы этим летом',\n",
    "    'курс по питону',\n",
    "    'сериалы про спорт',\n",
    "]\n",
    "\n",
    "\n",
    "request = str()\n",
    "for item in queries:\n",
    "    request = request +str(len(item.split(' ')))\n",
    "    \n",
    "request_list=list(request)\n",
    "request_list2={i:request_list.count(i) for i in request_list}\n",
    "    \n",
    "#print(request_list2)\n",
    "for key,value  in  request_list2.items():\n",
    "    print('Поисковых запросов, содержащих', key, 'слов(а):',round((value*100)/len(queries),2), '%')\n",
    "\n",
    "    \n",
    "     \n"
   ]
  },
  {
   "cell_type": "code",
   "execution_count": 179,
   "metadata": {},
   "outputs": [
    {
     "name": "stdout",
     "output_type": "stream",
     "text": [
      "{'vk': {'revenue': 103, 'cost': 98, 'roi': 5.1}, 'yandex': {'revenue': 179, 'cost': 153, 'roi': 16.99}, 'facebook': {'revenue': 103, 'cost': 110, 'roi': -6.36}, 'adwords': {'revenue': 35, 'cost': 34, 'roi': 2.94}, 'twitter': {'revenue': 11, 'cost': 24, 'roi': -54.17}}\n"
     ]
    }
   ],
   "source": [
    "#Задание 3\n",
    "\n",
    "results = {\n",
    "    'vk': {'revenue': 103, 'cost': 98},\n",
    "    'yandex': {'revenue': 179, 'cost': 153},\n",
    "    'facebook': {'revenue': 103, 'cost': 110},\n",
    "    'adwords': {'revenue': 35, 'cost': 34},\n",
    "    'twitter': {'revenue': 11, 'cost': 24},\n",
    "}\n",
    "for i in list (results.values()):\n",
    "    i['roi'] =round(((i['revenue']/i['cost']-1)*100),2)\n",
    "print(results)\n",
    "\n"
   ]
  },
  {
   "cell_type": "code",
   "execution_count": 20,
   "metadata": {},
   "outputs": [
    {
     "name": "stdout",
     "output_type": "stream",
     "text": [
      "Максимальный объем продаж на рекламном канале:   vk\n"
     ]
    }
   ],
   "source": [
    "#Задание 4\n",
    "\n",
    "stats = {'facebook': 55, 'yandex': 115, 'vk': 120, 'google': 99, 'email': 42, 'ok': 98}\n",
    "\n",
    "\n",
    "adv = max(stats, key =stats.get)  \n",
    "print('Максимальный объем продаж на рекламном канале:  ', adv)\n",
    "    "
   ]
  }
 ],
 "metadata": {
  "kernelspec": {
   "display_name": "Python 3",
   "language": "python",
   "name": "python3"
  },
  "language_info": {
   "codemirror_mode": {
    "name": "ipython",
    "version": 3
   },
   "file_extension": ".py",
   "mimetype": "text/x-python",
   "name": "python",
   "nbconvert_exporter": "python",
   "pygments_lexer": "ipython3",
   "version": "3.8.5"
  }
 },
 "nbformat": 4,
 "nbformat_minor": 4
}
